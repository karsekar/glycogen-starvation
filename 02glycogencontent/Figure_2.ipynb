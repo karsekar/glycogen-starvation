{
 "cells": [
  {
   "cell_type": "markdown",
   "metadata": {},
   "source": [
    "# Import packages"
   ]
  },
  {
   "cell_type": "code",
   "execution_count": 2,
   "metadata": {
    "collapsed": true
   },
   "outputs": [],
   "source": [
    "import numpy as np\n",
    "import matplotlib.pyplot as plt\n",
    "import pandas as pd\n",
    "import scipy.stats as stats \n",
    "%matplotlib inline"
   ]
  },
  {
   "cell_type": "markdown",
   "metadata": {},
   "source": [
    "# Panel A"
   ]
  },
  {
   "cell_type": "code",
   "execution_count": 15,
   "metadata": {
    "collapsed": true
   },
   "outputs": [],
   "source": [
    "# raw data\n",
    "raw_0_enz = np.array([0.093800001, 0.091300003, 0.089100003, 0.091200002, 0.089000002, 0.093199998])\n",
    "raw_0_noenz = np.array([0.077600002 , 0.073899999, 0.075099997, 0.075000003, 0.076499999, 0.074299999])\n",
    "raw_10_enz = np.array([0.060199998, 0.0579, 0.058400001, 0.061900001, 0.061799999, 0.060800001])\n",
    "raw_10_noenz = np.array([0.057599999, 0.056000002, 0.056499999, 0.056699999, 0.056200001, 0.0561])\n",
    "raw_30_enz = np.array([0.056400001, 0.057, 0.0561, 0.067500003, 0.057599999, 0.059799999])\n",
    "raw_30_noenz = np.array([0.056200001, 0.054200001, 0.0546, 0.057399999, 0.056200001, 0.056200001])\n",
    "raw_50_enz = np.array([0.057100002, 0.055300001, 0.054900002, 0.054000001, 0.057700001, 0.059])\n",
    "raw_50_noenz = np.array([0.056699999, 0.0568, 0.054200001, 0.056699999, 0.055100001, 0.0559])\n",
    "raw_50_enz = np.array([0.057100002, 0.055300001, 0.054900002,  0.057700001, 0.059])\n",
    "raw_50_noenz = np.array([0.056699999, 0.0568, 0.054200001,  0.055100001, 0.0559])\n",
    "\n",
    "\n",
    "time = [1,10,30,50]\n",
    "\n",
    "# Cell OD for the timepoints\n",
    "ODs = np.array([0.02, 0.031, 0.031,0.031])*8"
   ]
  },
  {
   "cell_type": "code",
   "execution_count": 16,
   "metadata": {
    "collapsed": true
   },
   "outputs": [],
   "source": [
    "# correct data substract noenz from enz\n",
    "# devide by timepoint 0 to get relative \n",
    "corr_0 = (raw_0_enz-raw_0_noenz )/ODs[0]\n",
    "corr_10 = (raw_10_enz-raw_10_noenz)/ODs[1]\n",
    "corr_30 = (raw_30_enz-raw_30_noenz)/ODs[2]\n",
    "corr_50 = (raw_50_enz-raw_50_noenz)/ODs[3]\n",
    "\n",
    "mean = [np.mean(corr_0),np.mean(corr_10),np.mean(corr_30),np.mean(corr_50)]\n",
    "rel_0 = corr_0/mean[0]\n",
    "rel_10 = corr_10/mean[0]\n",
    "rel_30 = corr_30/mean[0]\n",
    "rel_50 =corr_50/mean[0]\n",
    "\n",
    "all_data_mean = np.array([np.mean(rel_0),np.mean(rel_10),np.mean(rel_30),np.mean(rel_50)]) *100\n",
    "\n",
    "all_data_stderr = np.array([stats.sem(rel_0),stats.sem(rel_10),stats.sem(rel_30),stats.sem(rel_50)]) *100"
   ]
  },
  {
   "cell_type": "code",
   "execution_count": 17,
   "metadata": {},
   "outputs": [
    {
     "data": {
      "image/png": "[encoded data removed]",
      "text/plain": [
       "<matplotlib.figure.Figure at 0x11e3cb250>"
      ]
     },
     "metadata": {},
     "output_type": "display_data"
    }
   ],
   "source": [
    "fig, ax = plt.subplots()\n",
    "ind = np.arange(1)  # the x locations for the groups\n",
    "width = 0.2       # the width of the bars\n",
    "\n",
    "rects1 = ax.bar(ind , all_data_mean[0], width, color='#46AE31', yerr=all_data_stderr[0] , capsize = 4)\n",
    "rects1 = ax.bar(0.3,0)\n",
    "\n",
    "rects2 = ax.bar(ind + 1*width, all_data_mean[1], width, color='#187D2A', yerr=all_data_stderr[1], capsize = 4)\n",
    "rects2 = ax.bar(0.15,0)\n",
    "\n",
    "rects3 = ax.bar(ind + 2*width, all_data_mean[2], width, color='#105D2A', yerr=all_data_stderr[2], capsize = 4)\n",
    "\n",
    "rects4 = ax.bar(ind + 3*width, all_data_mean[3], width, color='#183C11', yerr=all_data_stderr[3], capsize = 4)\n",
    "\n",
    "# add some text for labels, title and axes ticks\n",
    "plt.xticks(rotation=70)\n",
    "ax.set_ylabel(u'Relative glycogen content [%]')\n",
    "ax.set_xticks([ind, ind+width, ind + 2*width, ind + 3*width] )\n",
    "ax.set_xticklabels(['0 min', '10 min', '30 min', '50 min'])\n",
    "\n",
    "\n",
    "ax.spines['right'].set_visible(False)\n",
    "ax.spines['top'].set_visible(False)\n",
    "plt.savefig('Figure2_PanelA.pdf', bbox_inches='tight' )"
   ]
  },
  {
   "cell_type": "markdown",
   "metadata": {},
   "source": [
    "# Panel B "
   ]
  },
  {
   "cell_type": "code",
   "execution_count": 8,
   "metadata": {
    "collapsed": true
   },
   "outputs": [],
   "source": [
    "time = np.array([0, 2, 5])\n",
    "\n",
    "OD_1 = np.array([0.82,0.77,0.76])\n",
    "OD_2 = np.array([0.86,0.81,0.83])\n",
    "OD_3 = np.array([0.82,0.79,0.77])\n",
    "supernatant_no_enz_1 = np.array([7105,5801,6632])\n",
    "supernatant_no_enz_2 = np.array([7570,6084,5869])\n",
    "supernatant_no_enz_3 = np.array([9671,6696,7546])\n",
    "supernatant_enz_1 = np.array([6656,7139,7712])\n",
    "supernatant_enz_2 = np.array([7878,7913,7308])\n",
    "supernatant_enz_3 = np.array([9929,7901,8564])\n"
   ]
  },
  {
   "cell_type": "code",
   "execution_count": 11,
   "metadata": {},
   "outputs": [],
   "source": [
    "# substract no enz from enz\n",
    "diff_1 = supernatant_enz_1 - supernatant_no_enz_1\n",
    "diff_2 = supernatant_enz_2 - supernatant_no_enz_2\n",
    "diff_3 = supernatant_enz_3 - supernatant_no_enz_3\n",
    "\n",
    "# normalize to OD\n",
    "diff_norm_1 = diff_1 / OD_1\n",
    "diff_norm_2 = diff_2 / OD_2\n",
    "diff_norm_3 = diff_3 / OD_3\n",
    "\n",
    "# get average and std\n",
    "#divide by fluo per glyc to get total content\n",
    "average = np.array([np.mean([diff_1[i], diff_2[i], diff_3[i]]) for i in range(len(time))]) \n",
    "std = np.array([np.std([diff_1[i], diff_2[i], diff_3[i]]) for i in range(len(time))] )\n",
    "\n",
    "# make relative to highest value\n",
    "average_rel = average*100 / average[1]\n",
    "std_rel = std*100 / average[1]"
   ]
  },
  {
   "cell_type": "code",
   "execution_count": 10,
   "metadata": {},
   "outputs": [
    {
     "data": {
      "image/png": "[encoded data removed]",
      "text/plain": [
       "<matplotlib.figure.Figure at 0x120843990>"
      ]
     },
     "metadata": {},
     "output_type": "display_data"
    }
   ],
   "source": [
    "fig, ax = plt.subplots()\n",
    "ind = np.arange(1)  # the x locations for the groups\n",
    "width = 0.2       # the width of the bars\n",
    "\n",
    "rects1 = ax.bar(ind , average_rel[0], width, color='#439C68', yerr=std_rel[0]/np.sqrt(3) , capsize = 4)\n",
    "rects1 = ax.bar(0.3,0)\n",
    "\n",
    "rects2 = ax.bar(ind + 1*width, average_rel[1], width, color='#187D2A', yerr=std_rel[1]/np.sqrt(3), capsize = 4)\n",
    "rects2 = ax.bar(0.15,0)\n",
    "\n",
    "rects3 = ax.bar(ind + 2*width, average_rel[2], width, color='#105D2A', yerr=std_rel[2]/np.sqrt(3), capsize = 4)\n",
    "\n",
    "# add some text for labels, title and axes ticks\n",
    "plt.xticks(rotation=70)\n",
    "ax.set_ylabel(u'Relative glycogen content [%]')\n",
    "ax.set_xticks([ind, ind+width, ind + 2*width] )\n",
    "ax.set_xticklabels(['0 min', '2 min', '5 min'])\n",
    "\n",
    "ax.spines['right'].set_visible(False)\n",
    "ax.spines['top'].set_visible(False)\n",
    "plt.savefig('Figure2_PanelB.pdf', bbox_inches='tight' )"
   ]
  },
  {
   "cell_type": "code",
   "execution_count": null,
   "metadata": {
    "collapsed": true
   },
   "outputs": [],
   "source": []
  }
 ],
 "metadata": {
  "kernelspec": {
   "display_name": "Python 2",
   "language": "python",
   "name": "python2"
  },
  "language_info": {
   "codemirror_mode": {
    "name": "ipython",
    "version": 2
   },
   "file_extension": ".py",
   "mimetype": "text/x-python",
   "name": "python",
   "nbconvert_exporter": "python",
   "pygments_lexer": "ipython2",
   "version": "2.7.13"
  }
 },
 "nbformat": 4,
 "nbformat_minor": 2
}
