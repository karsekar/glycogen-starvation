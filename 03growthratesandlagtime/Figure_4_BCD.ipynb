{
 "cells": [
  {
   "cell_type": "markdown",
   "metadata": {},
   "source": [
    "# Import packages"
   ]
  },
  {
   "cell_type": "code",
   "execution_count": 3,
   "metadata": {
    "collapsed": true
   },
   "outputs": [],
   "source": [
    "import pandas as pd\n",
    "import matplotlib.pyplot as plt\n",
    "import numpy as np\n",
    "from sklearn.linear_model import LinearRegression\n",
    "from scipy import stats\n",
    "\n",
    "%matplotlib inline"
   ]
  },
  {
   "cell_type": "markdown",
   "metadata": {},
   "source": [
    "# Panel B"
   ]
  },
  {
   "cell_type": "code",
   "execution_count": 6,
   "metadata": {
    "collapsed": true
   },
   "outputs": [],
   "source": [
    "def fit_linear(time, data, end_aver, aver, ending=-1):\n",
    "    # Does linear fit and returns the slope in min\n",
    "    \n",
    "    \n",
    "    linear_regressor = LinearRegression()  # create object for the class\n",
    "    linear_regressor.fit(time.values[-end_aver:ending].reshape(-1, 1), data[-end_aver:ending].reshape(-1, 1))  # perform linear regression\n",
    "    m = linear_regressor.coef_\n",
    "    b = linear_regressor.intercept_\n",
    "    \n",
    "    lag_s = (aver - b)/m \n",
    "    lag_m = lag_s / 60.\n",
    "\n",
    "\n",
    "    return lag_m"
   ]
  },
  {
   "cell_type": "code",
   "execution_count": 77,
   "metadata": {},
   "outputs": [],
   "source": [
    "# Data\n",
    "alix_results = pd.read_excel('data_wt.xlsx')\n",
    "alix_results_mut = pd.read_excel('data_mut.xlsx')"
   ]
  },
  {
   "cell_type": "code",
   "execution_count": 78,
   "metadata": {},
   "outputs": [],
   "source": [
    "# wildtype\n",
    "time = alix_results.T[0][2:]   \n",
    "\n",
    "wt_1 = alix_results.T[30][2:].values.astype(float)\n",
    "wt_2 = alix_results.T[31][2:].values.astype(float)\n",
    "wt_3 = alix_results.T[32][2:].values.astype(float)\n",
    "wt_4 = alix_results.T[33][2:].values.astype(float)\n",
    "wt_5 = alix_results.T[34][2:].values.astype(float)\n",
    "wt_6 = alix_results.T[35][2:].values.astype(float)\n",
    "\n",
    "# get base line value by taking the average of the fist x points\n",
    "averager = 5\n",
    "end_aver = 40\n",
    "ending = -30\n",
    "\n",
    "av_1 = np.mean(wt_1[:averager])\n",
    "av_2 = np.mean(wt_2[:averager])\n",
    "av_3 = np.mean(wt_3[:averager])\n",
    "av_4 = np.mean(wt_4[:averager])\n",
    "av_5 = np.mean(wt_5[:averager])\n",
    "av_6 = np.mean(wt_6[:averager])\n",
    "\n",
    "# get final growth rate by the fitting the last part of the data\n",
    "# calculate intercept \n",
    "m_1 = fit_linear(time, wt_1_log, end_aver, av_1, ending=ending)\n",
    "m_2 = fit_linear(time, wt_2_log, end_aver, av_2, ending=ending)\n",
    "m_3 = fit_linear(time, wt_3_log, end_aver, av_3, ending=ending)\n",
    "m_4 = fit_linear(time, wt_4_log, end_aver, av_4, ending=ending)\n",
    "m_5 = fit_linear(time, wt_5_log, end_aver, av_5, ending=ending)\n",
    "m_6 = fit_linear(time, wt_6_log, end_aver, av_6, ending=ending)\n",
    "\n",
    "mean_starve = np.mean([m_1, m_2, m_3])\n",
    "std_starve = np.std([m_1, m_2, m_3])\n",
    "mean_nostarve = np.mean([m_4, m_5, m_6])\n",
    "std_nostarve = np.std([m_4, m_5, m_6])"
   ]
  },
  {
   "cell_type": "code",
   "execution_count": 79,
   "metadata": {},
   "outputs": [],
   "source": [
    "# for mutant \n",
    "\n",
    "mut_1 = alix_results_mut.T[37][1:].values.astype(float)\n",
    "mut_2 = alix_results_mut.T[38][1:].values.astype(float)\n",
    "mut_3 = alix_results_mut.T[39][1:].values.astype(float)\n",
    "mut_4 = alix_results_mut.T[40][1:].values.astype(float)\n",
    "mut_5 = alix_results_mut.T[41][1:].values.astype(float)\n",
    "mut_6 = alix_results_mut.T[42][1:].values.astype(float)\n",
    "\n",
    "\n",
    "# get base line value by taking the average of the fist x points\n",
    "# remove the very first datapoint, because of artefacts \n",
    "averager = 20\n",
    "end_aver = 15\n",
    "start_data = 1\n",
    "\n",
    "av_1 = np.mean(mut_1[start_data:averager])\n",
    "av_2 = np.mean(mut_2[start_data:averager])\n",
    "av_3 = np.mean(mut_3[start_data:averager])\n",
    "av_4 = np.mean(mut_4_log[start_data:averager])\n",
    "av_5 = np.mean(mut_5[start_data:averager])\n",
    "av_6 = np.mean(mut_6[start_data:averager])\n",
    "\n",
    "# get final gromuth rate by the fitting the last part of the data\n",
    "# calculate intercept \n",
    "m_mut_1 = fit_linear(time, mut_1_log, end_aver, av_1)\n",
    "m_mut_2 = fit_linear(time, mut_2_log, end_aver, av_2)\n",
    "m_mut_3 = fit_linear(time, mut_3_log, end_aver, av_3)\n",
    "m_mut_4 = fit_linear(time, mut_4_log, end_aver, av_4)\n",
    "m_mut_5 = fit_linear(time, mut_5_log, end_aver, av_5)\n",
    "m_mut_6 = fit_linear(time, mut_6_log, end_aver, av_6)\n",
    "\n",
    "# mutant 2 was contaminated and therfore removed from subsequent analysis\n",
    "mean_mut_starve = np.mean([m_mut_1,  m_mut_3])\n",
    "std_mut_starve = np.std([m_mut_1,  m_mut_3])\n",
    "mean_mut_nostarve = np.mean([m_mut_4, m_mut_5, m_mut_6])\n",
    "std_mut_nostarve = np.std([m_mut_4, m_mut_5, m_mut_6])"
   ]
  },
  {
   "cell_type": "code",
   "execution_count": 80,
   "metadata": {},
   "outputs": [
    {
     "data": {
      "image/png": "[encoded data removed]",
      "text/plain": [
       "<matplotlib.figure.Figure at 0x12547d650>"
      ]
     },
     "metadata": {},
     "output_type": "display_data"
    }
   ],
   "source": [
    "# same plot with stars\n",
    "\n",
    "fig, ax = plt.subplots()\n",
    "ind = np.arange(1)  # the x locations for the groups\n",
    "width = 0.2       # the width of the bars\n",
    "\n",
    "rects2 = ax.bar(ind , mean_nostarve, width, color='#439C68', yerr=std_nostarve, capsize = 4)\n",
    "rects2 = ax.bar(0.3,0)\n",
    "\n",
    "rects4 = ax.bar(ind + 3*width, mean_starve, width, color='#105D2A', yerr=std_starve, capsize = 4)\n",
    "rects4 = ax.bar(0.15,0)\n",
    "\n",
    "rects1 = ax.bar(ind + 1*width, mean_mut_nostarve, width, color='#AA5585', yerr=std_mut_nostarve, capsize = 4)\n",
    "\n",
    "rects3 = ax.bar(ind + 4*width, mean_mut_starve, width, color='#661141', yerr=std_mut_starve, capsize = 4)\n",
    "rects3 = ax.bar(0.15,0)\n",
    "# add some text for labels, title and axes ticks\n",
    "plt.xticks(rotation=70)\n",
    "ax.set_ylabel('Lag time time [min]')\n",
    "ax.set_xticks([ind, ind+width, ind + 3*width,  ind + 4*width] )\n",
    "ax.set_xticklabels(['wt', r'$\\Delta$glgP', 'wt', r'$\\Delta$glgP'])\n",
    "\n",
    "# add significant level \n",
    "#'wt starve nostarve'\n",
    "sig_wt = \"p = \" + str(round(stats.ttest_ind([m_1, m_2, m_3],[m_4, m_5, m_6]).pvalue[0][0],3))\n",
    "# mut starve nostarve\n",
    "sig_mut = \"p = \" + str(round(stats.ttest_ind([m_mut_1, m_mut_3],[m_mut_4, m_mut_5, m_mut_6]).pvalue[0][0],3))\n",
    "#'compare starved'\n",
    "sig_starve = \"p = \" + str(round(stats.ttest_ind([m_mut_1, m_mut_3],[m_1, m_2, m_3]).pvalue[0][0],3))\n",
    "#'compare no starved')\n",
    "sig_nostarve = \"p = \" + str(round(stats.ttest_ind([m_4, m_5, m_6],[m_mut_4, m_mut_5, m_mut_6]).pvalue[0][0],3))\n",
    "\n",
    "\n",
    "\n",
    "ax.plot([ind, ind + 1 * width], [155, 155], 'k-', lw=1)\n",
    "ax.plot([ind, ind ], [150, 155], 'k-', lw=1)\n",
    "ax.plot([ind+ 1 *width, ind+ 1 *width ], [150, 155], 'k-', lw=1)\n",
    "ax.text(ind + 0.1 * width, 159, sig_nostarve)\n",
    "\n",
    "ax.plot([ind+ 3 * width, ind + 4 * width], [245, 245], 'k-', lw=1)\n",
    "ax.plot([ind+ 3 * width, ind+ 3 * width ], [240, 245], 'k-', lw=1)\n",
    "ax.plot([ind+ 4 *width, ind+ 4 *width ], [240, 245], 'k-', lw=1)\n",
    "ax.text(ind+  3.1 * width, 249, sig_starve)\n",
    "\n",
    "ax.text(ind+  0.1 * width, -70,'acetate', fontsize=11)\n",
    "ax.text(ind+  3.1 * width, -70,'carbon free', fontsize=11)\n",
    "\n",
    "\n",
    "ax.set_ylim(0,275)\n",
    "ax.spines['right'].set_visible(False)\n",
    "ax.spines['top'].set_visible(False)\n",
    "plt.savefig('Figure_4_PanelB.pdf', bbox_inches='tight' )"
   ]
  },
  {
   "cell_type": "markdown",
   "metadata": {},
   "source": [
    "# Panel C"
   ]
  },
  {
   "cell_type": "code",
   "execution_count": 68,
   "metadata": {},
   "outputs": [],
   "source": [
    "# data\n",
    "times_wt_before = np.array( [15, 31, 61, 91, 119, 232, 307, 355]) \n",
    "times_wt_after = np.array( [8, 36, 100, 172, 239, 274, 308 ]) \n",
    "times_glgP_before = np.array( [15, 33, 64, 93, 117, 240, 312, 357, 397]) \n",
    "times_glgP_after = np.array( [13, 43, 105, 179, 239, 274, 316]) \n",
    "times_glgP_before = times_glgP_before - times_glgP_before[0]\n",
    "\n",
    "wt_before_starve_1 = np.array([ 0.124, 0.123, 0.123, 0.134, 0.146, 0.181, 0.231, 0.267]) *2\n",
    "wt_before_starve_2 = np.array([0.117, 0.119, 0.132, 0.130, 0.143, 0.181, 0.230, 0.266]) *2\n",
    "wt_before_starve_3 = np.array([ 0.119, 0.118, 0.119, 0.126, 0.136, 0.166, 0.223, 0.262]) *2\n",
    "\n",
    "wt_after_starve_1 = np.array([ 0.245, 0.268, 0.326, 0.416, 2*0.29, 2*0.349, 2*0.396]) *2\n",
    "wt_after_starve_2 = np.array([ 0.264, 0.286,0.342, 0.438, 2*0.301, 2*0.351, 2*0.399]) *2\n",
    "wt_after_starve_3 = np.array([ 0.261, 0.281, 0.332, 0.406, 2*0.311, 2*0.36, 2*0.416]) *2\n",
    "\n",
    "\n",
    "glgP_before_starve_1 = np.array([ 0.119, 0.124,  0.128, 0.130, 0.142, 0.162, 0.173, 0.202, 0.210 ]) *2\n",
    "glgP_before_starve_2 = np.array([ 0.113, 0.118, 0.125, 0.125, 0.132, 0.145, 0.157, 0.169, 0.182 ]) *2\n",
    "glgP_before_starve_3 = np.array([ 0.12, 0.122, 0.126, 0.128, 0.136, 0.151, 0.162, 0.173, 0.191]) *2\n",
    "\n",
    "glgP_after_starve_1 = np.array([ 0.2165, 0.245, 0.259, 0.281, 0.303, 0.332, 2*0.198]) *2\n",
    "glgP_after_starve_2 = np.array([ 0.2135, 0.236, 0.252, 0.268, 0.292, 0.306, 2*0.181]) *2\n",
    "glgP_after_starve_3 = np.array([ 0.209, 0.237, 0.245, 0.267, 0.290, 0.308, 2*0.181]) *2"
   ]
  },
  {
   "cell_type": "code",
   "execution_count": 69,
   "metadata": {},
   "outputs": [],
   "source": [
    "# calculate when growth rate obtained by last three points reaces mean level level of three points\n",
    "\n",
    "\n",
    "# lag time wt_before\n",
    "z_1 = np.polyfit(times_wt_before[-3:], np.log2(wt_before_starve_1[-3:]),1)\n",
    "lag_wt_before_1  = (np.mean(np.log2(wt_before_starve_1[0])) - z_1[1]) / z_1[0]\n",
    "\n",
    "z_2 = np.polyfit(times_wt_before[-3:], np.log2(wt_before_starve_2[-3:]),1)\n",
    "lag_wt_before_2  = (np.mean(np.log2(wt_before_starve_2[0])) - z_2[1]) / z_2[0]\n",
    "\n",
    "z_3 = np.polyfit(times_wt_before[-3:], np.log2(wt_before_starve_3[-3:]),1)\n",
    "lag_wt_before_3  = (np.mean(np.log2(wt_before_starve_3[0])) - z_3[1]) / z_3[0]\n",
    "\n",
    "# lag time wt_after\n",
    "z_1 = np.polyfit(times_wt_after[-3:], np.log2(wt_after_starve_1[-3:]),1)\n",
    "lag_wt_after_1  = (np.log2(wt_after_starve_1[0]) - z_1[1]) / z_1[0]\n",
    "\n",
    "z_2 = np.polyfit(times_wt_after[-3:], np.log2(wt_after_starve_2[-3:]),1)\n",
    "lag_wt_after_2  = (np.log2(wt_after_starve_2[0]) - z_2[1]) / z_2[0]\n",
    "\n",
    "z_3 = np.polyfit(times_wt_after[-3:], np.log2(wt_after_starve_3[-3:]),1)\n",
    "lag_wt_after_3  = (np.log2(wt_after_starve_3[0]) - z_3[1]) / z_3[0]\n",
    "\n",
    "\n",
    "# lag time glgP_before\n",
    "z_1 = np.polyfit(times_glgP_before[-3:], np.log2(glgP_before_starve_1[-3:]),1)\n",
    "lag_glgP_before_1  = (np.mean(np.log2(glgP_before_starve_1[1])) - z_1[1]) / z_1[0]\n",
    "\n",
    "z_2 = np.polyfit(times_glgP_before[-3:], np.log2(glgP_before_starve_2[-3:]),1)\n",
    "lag_glgP_before_2  = (np.mean(np.log2(glgP_before_starve_1[0])) - z_2[1]) / z_2[0]\n",
    "\n",
    "z_3 = np.polyfit(times_glgP_before[-3:], np.log2(glgP_before_starve_3[-3:]),1)\n",
    "lag_glgP_before_3  = (np.mean(np.log2(glgP_before_starve_1[0])) - z_3[1]) / z_3[0]\n",
    "\n",
    "# lag time glgP_after\n",
    "z_1 = np.polyfit(times_glgP_after[-3:], np.log2(glgP_after_starve_1[-3:]),1)\n",
    "lag_glgP_after_1  = (np.mean(np.log2(glgP_after_starve_1[0])) - z_1[1]) / z_1[0]\n",
    "\n",
    "z_2 = np.polyfit(times_glgP_after[-3:], np.log2(glgP_after_starve_2[-3:]),1)\n",
    "lag_glgP_after_2  = (np.mean(np.log2(glgP_after_starve_1[0])) - z_2[1]) / z_2[0]\n",
    "\n",
    "z_3 = np.polyfit(times_glgP_after[-3:], np.log2(glgP_after_starve_3[-3:]),1)\n",
    "lag_glgP_after_3  = (np.mean(np.log2(glgP_after_starve_1[0])) - z_3[1]) / z_3[0]"
   ]
  },
  {
   "cell_type": "code",
   "execution_count": 71,
   "metadata": {},
   "outputs": [
    {
     "data": {
      "image/png": "[encoded data removed]",
      "text/plain": [
       "<matplotlib.figure.Figure at 0x12560d550>"
      ]
     },
     "metadata": {},
     "output_type": "display_data"
    }
   ],
   "source": [
    "\n",
    "fig, ax = plt.subplots()\n",
    "ind = np.arange(1)  # the x locations for the groups\n",
    "width = 0.2       # the width of the bars\n",
    "\n",
    "rects1 = ax.bar(ind + 3*width, np.mean([lag_glgP_before_1, lag_glgP_before_2, lag_glgP_before_3]), width, color='#AA5585', yerr=np.std([lag_glgP_before_1, lag_glgP_before_2, lag_glgP_before_3]), capsize = 4)\n",
    "\n",
    "rects2 = ax.bar(ind , np.mean([lag_wt_before_1, lag_wt_before_2, lag_wt_before_3]), width, color='#439C68', yerr=np.std([lag_wt_before_1, lag_wt_before_2, lag_wt_before_3]), capsize = 4)\n",
    "rects2 = ax.bar(0.3,0)\n",
    "\n",
    "rects3 = ax.bar(ind + 4*width, np.mean([lag_glgP_after_1, lag_glgP_after_2, lag_glgP_after_3]), width, color='#661141', yerr=np.std([lag_glgP_after_1, lag_glgP_after_2, lag_glgP_after_3]), capsize = 4)\n",
    "rects3 = ax.bar(0.15,0)\n",
    "\n",
    "rects4 = ax.bar(ind + 1*width, np.mean([lag_wt_after_1, lag_wt_after_2, lag_wt_after_3]), width, color='#105D2A', yerr=np.std([lag_wt_after_1, lag_wt_after_2, lag_wt_after_3]), capsize = 4)\n",
    "rects4 = ax.bar(0.15,0)\n",
    "\n",
    "# add some text for labels, title and axes ticks\n",
    "\n",
    "ax.set_ylabel('lag time time [min]')\n",
    "ax.set_xticks([ind, ind+width, ind + 3*width,  ind + 4*width] )\n",
    "ax.set_xticklabels(['before', 'after', 'before', 'after'])\n",
    "\n",
    "# statistics\n",
    "\n",
    "sig_wt = \"p = \" + str(round(stats.ttest_ind([lag_wt_before_1, lag_wt_before_2, lag_wt_before_3],[lag_wt_after_1, lag_wt_after_2, lag_wt_after_3])[1],3))\n",
    "sig_glgP = \"p = \" + str(round(stats.ttest_ind([lag_glgP_before_1, lag_glgP_before_2, lag_glgP_before_3],[lag_glgP_after_1, lag_glgP_after_2, lag_glgP_after_3])[1],2))\n",
    "sig_before = \"p = \" + str(round(stats.ttest_ind([lag_wt_before_1, lag_wt_before_2, lag_wt_before_3],[lag_glgP_before_1, lag_glgP_before_2, lag_glgP_before_3])[1],2))\n",
    "\n",
    "# add significant level \n",
    "ax.plot([ind, ind + 1 * width], [155, 155], 'k-', lw=1)\n",
    "ax.plot([ind, ind ], [150, 155], 'k-', lw=1)\n",
    "ax.plot([ind+ 1 *width, ind+ 1 *width ], [150, 155], 'k-', lw=1)\n",
    "ax.text(ind + 0.1 * width, 159, sig_wt)\n",
    "\n",
    "ax.plot([ind+ 3 * width, ind + 4 * width], [155, 155], 'k-', lw=1)\n",
    "ax.plot([ind+ 3 * width, ind+ 3 * width ], [150, 155], 'k-', lw=1)\n",
    "ax.plot([ind+ 4 *width, ind+ 4 *width ], [150, 155], 'k-', lw=1)\n",
    "ax.text(ind+  3.1 * width, 159, sig_glgP)\n",
    "\n",
    "ax.plot([ind, ind + 3 * width], [185, 185], 'k-', lw=1)\n",
    "ax.plot([ind, ind ], [180, 185], 'k-', lw=1)\n",
    "ax.plot([ind+ 3 *width, ind+ 3 *width ], [180, 185], 'k-', lw=1)\n",
    "ax.text(ind + 1.1 * width, 189, sig_before)\n",
    "\n",
    "\n",
    "ax.text(ind + 0.45*width, 200, \"wt\",  fontsize=14)\n",
    "ax.text(ind + 3.3*width, 200, r'$\\Delta$ glgP',  fontsize=14)\n",
    "ax.set_ylim(0, 215)\n",
    "ax.spines['right'].set_visible(False)\n",
    "ax.spines['top'].set_visible(False)\n",
    "plt.savefig('Figure_4_PanelC.pdf' )\n",
    "\n",
    "\n"
   ]
  },
  {
   "cell_type": "markdown",
   "metadata": {},
   "source": [
    "# Panel C"
   ]
  },
  {
   "cell_type": "code",
   "execution_count": 72,
   "metadata": {
    "collapsed": true
   },
   "outputs": [],
   "source": [
    "time_points = [1,30,60,90,120,180,240,360,360+15*60+40]\n",
    "\n",
    "wt_1 = np.array([0.198, 0.176, 0.144, 0.112, 0.094, 0.089, 0.056, 0.047, 0.014])\n",
    "wt_2 = np.array([0.11, 0.103, 0.105, 0.093, 0.086, 0.082, 0.071, 0.057, 0.021])\n",
    "wt_3 = np.array([0.203, 0.168, 0.161, 0.13, 0.111, 0.063, 0.06, 0.042, 0.014])\n",
    "\n",
    "glgP_1 = np.array([0.204, 0.246, 0.238, 0.224, 0.226, 0.212, 0.22, 0.194, 0.198])\n",
    "glgP_2 = np.array([0.133, 0.121, 0.134, 0.134, 0.122, 0.118, 0.118, 0.108, 0.089])\n",
    "glgP_3 = np.array([0.13, 0.122, 0.126, 0.12, 0.121, 0.113, 0.118, 0.094, 0.077])\n",
    "\n",
    "glgA_1 = np.array([0.237, 0.219, 0.231, 0.203, 0.209, 0.212, 0.225, 0.181, 0.119])\n",
    "glgA_2 = np.array([0.157, 0.198, 0.217, 0.21, 0.201, 0.209, 0.213, 0.174, 0.14])\n",
    "glgA_3 = np.array([0.241, 0.214, 0.231, 0.218, 0.203, 0.211, 0.195, 0.153, 0.13])"
   ]
  },
  {
   "cell_type": "code",
   "execution_count": 73,
   "metadata": {
    "collapsed": true
   },
   "outputs": [],
   "source": [
    "# scale to 100% at the beginning \n",
    "wt_1_scale = wt_1/wt_1[0]\n",
    "wt_2_scale = wt_2/wt_2[0]\n",
    "wt_3_scale = wt_3/wt_3[0]\n",
    "\n",
    "wt_mean = np.array([np.mean([wt_1_scale[m], wt_2_scale[m], wt_3_scale[m]]) for m in range(len(wt_1_scale))])*100\n",
    "wt_stderr = np.array([stats.sem([wt_1_scale[m], wt_2_scale[m], wt_3_scale[m]]) for m in range(len(wt_1_scale))])*100\n",
    "\n",
    "\n",
    "glgP_1_scale = glgP_1/glgP_1[0]\n",
    "glgP_2_scale = glgP_2/glgP_2[0]\n",
    "glgP_3_scale = glgP_3/glgP_3[0]\n",
    "\n",
    "glgP_mean = np.array([np.mean([glgP_1_scale[m], glgP_2_scale[m], glgP_3_scale[m]]) for m in range(len(glgP_1_scale))])*100\n",
    "glgP_stderr = np.array([stats.sem([glgP_1_scale[m], glgP_2_scale[m], glgP_3_scale[m]]) for m in range(len(glgP_1_scale))])*100\n",
    "\n",
    "\n",
    "glgA_1_scale = glgA_1/glgA_1[0]\n",
    "glgA_2_scale = glgA_2/glgA_2[0]\n",
    "glgA_3_scale = glgA_3/glgA_3[0]\n",
    "\n",
    "glgA_mean = np.array([np.mean([glgA_1_scale[m], glgA_2_scale[m], glgA_3_scale[m]]) for m in range(len(glgA_1_scale))])*100\n",
    "glgA_stderr = np.array([stats.sem([glgA_1_scale[m], glgA_2_scale[m], glgA_3_scale[m]]) for m in range(len(glgA_1_scale))])*100"
   ]
  },
  {
   "cell_type": "code",
   "execution_count": 74,
   "metadata": {},
   "outputs": [
    {
     "data": {
      "image/png": "[encoded data removed]",
      "text/plain": [
       "<matplotlib.figure.Figure at 0x123198310>"
      ]
     },
     "metadata": {},
     "output_type": "display_data"
    }
   ],
   "source": [
    "fig, ax = plt.subplots()\n",
    "\n",
    "ax.errorbar(time_points, wt_mean,yerr=wt_stderr, fmt='--o', capthick=2, capsize=3, label='wt', color='#439C68' )\n",
    "ax.errorbar(time_points, glgP_mean,yerr=glgP_stderr, fmt='--o', capthick=2, capsize=3, label=r'$\\Delta glgP$', color='#661141')\n",
    "ax.errorbar(time_points, glgA_mean,yerr=glgA_stderr, fmt='--o', capthick=2, capsize=3, label=r'$\\Delta glgA$', color='#BA2EC0')\n",
    "\n",
    "\n",
    "ax.set_xlabel('Time [min]')\n",
    "ax.set_ylabel('Relative OD600 [%]')\n",
    "ax.spines['right'].set_visible(False)\n",
    "ax.spines['top'].set_visible(False)\n",
    "leg = plt.legend(bbox_to_anchor=(1, 1),bbox_transform=plt.gcf().transFigure)\n",
    "leg.get_frame().set_linewidth(0.0)\n",
    "ax.set_xlim(0)\n",
    "fig.tight_layout()\n",
    "fig.savefig('Figure_4_PanelD.pdf' )"
   ]
  },
  {
   "cell_type": "code",
   "execution_count": null,
   "metadata": {
    "collapsed": true
   },
   "outputs": [],
   "source": []
  }
 ],
 "metadata": {
  "kernelspec": {
   "display_name": "Python 2",
   "language": "python",
   "name": "python2"
  },
  "language_info": {
   "codemirror_mode": {
    "name": "ipython",
    "version": 2
   },
   "file_extension": ".py",
   "mimetype": "text/x-python",
   "name": "python",
   "nbconvert_exporter": "python",
   "pygments_lexer": "ipython2",
   "version": "2.7.13"
  }
 },
 "nbformat": 4,
 "nbformat_minor": 2
}
